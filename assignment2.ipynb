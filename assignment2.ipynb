{
 "cells": [
  {
   "cell_type": "code",
   "execution_count": 1,
   "metadata": {},
   "outputs": [],
   "source": [
    "import re"
   ]
  },
  {
   "cell_type": "markdown",
   "metadata": {},
   "source": [
    "## leap year and date format validator"
   ]
  },
  {
   "cell_type": "code",
   "execution_count": 2,
   "metadata": {},
   "outputs": [
    {
     "name": "stdout",
     "output_type": "stream",
     "text": [
      "31-04-1997 is Invalid date\n"
     ]
    }
   ],
   "source": [
    "s = \"31-04-1997\"\n",
    "r = re.compile(\"^(0[1-9]|[12][0-9]|3[01])([-])(0[1-9]|1[012])([-])(\\d\\d\\d\\d)$\")\n",
    "s = re.search(r,s)\n",
    "date = int(s.group(1))\n",
    "month = int(s.group(3))\n",
    "year = int(s.group(5))\n",
    "\n",
    "if (date == 29 and month == 2 and not ((year % 4 == 0) and (year % 100 != 0 or year % 400 == 0))):\n",
    "    print(\"{} is Invalid date\".format(s.group(0)))\n",
    "elif(date >= 30 and month == 2) or (date == 31 and (month == 4 or month == 6 or month == 9 or month == 11)):\n",
    "    print(\"{} is Invalid date\".format(s.group(0)))\n",
    "else:\n",
    "    print(\"{} is Valid date\".format(s.group(0)))"
   ]
  },
  {
   "cell_type": "markdown",
   "metadata": {},
   "source": [
    "## email validation"
   ]
  },
  {
   "cell_type": "code",
   "execution_count": 3,
   "metadata": {},
   "outputs": [
    {
     "name": "stdout",
     "output_type": "stream",
     "text": [
      "abcd.12@xyzghhr.co.in\n"
     ]
    }
   ],
   "source": [
    "\n",
    "s = \"abcd.12@xyzghhr.co.in\"\n",
    "r = re.compile(\"^[a-z]+(\\.)?[0-9]+@[a-z0-9]+(\\.[a-z]{2,3}){0,2}$\")\n",
    "m = re.search(r,s)\n",
    "if m:\n",
    "    print(m.group())\n",
    "else:\n",
    "    print(\"Invalid email\")"
   ]
  },
  {
   "cell_type": "markdown",
   "metadata": {},
   "source": [
    "## converting links to hyper links"
   ]
  },
  {
   "cell_type": "code",
   "execution_count": 36,
   "metadata": {},
   "outputs": [
    {
     "name": "stdout",
     "output_type": "stream",
     "text": [
      "The code is available at <a href=\"www.edyoda.com/code/python\">edyoda</a> and <a href=\"www.github.com/edyoda/python\">github</a>\n"
     ]
    }
   ],
   "source": [
    "\n",
    "text = \"The code is available at www.edyoda.com/code/python and www.github.com/edyoda/python\"\n",
    "r = re.compile(\"www\\.[a-z]+\\.com/[a-z]+/[a-z]+\")\n",
    "s = re.findall(r, text)\n",
    "\n",
    "for i in s:\n",
    "    text = text.replace(i, '<a href=\"{}\">{}</a>'.format(i, i.split('.')[1]))\n",
    "\n",
    "print(text)"
   ]
  },
  {
   "cell_type": "markdown",
   "metadata": {},
   "source": [
    "## merging two files"
   ]
  },
  {
   "cell_type": "code",
   "execution_count": 8,
   "metadata": {},
   "outputs": [
    {
     "name": "stdout",
     "output_type": "stream",
     "text": [
      "578 587\n",
      "PEP 578: Python Runtime Audit Hooks\n",
      "The PEP adds an Audit Hook and Verified Open Hook. Both are available from Python and native code, allowing applications and frameworks written in pure Python code to take advantage of extra notifications, while also allowing embedders or system administrators to deploy builds of Python where auditing is always enabled.\n",
      "\n",
      "PEP 587: Python Initialization Configuration\n",
      "The PEP 587 adds a new C API to configure the Python Initialization providing finer control on the whole configuration and better error reporting.\n"
     ]
    }
   ],
   "source": [
    "data_1 = open(\"text1.txt\",\"r\", encoding=\"utf8\")\n",
    "data_2 = open(\"text2.txt\", \"r\", encoding=\"utf8\")\n",
    "\n",
    "web_data_1 = data_1.read()\n",
    "web_data_2 = data_2.read()\n",
    "data_1.close()\n",
    "data_2.close()\n",
    "r = re.compile(\"[0-9]+\")\n",
    "num1 = re.search(r,web_data_1)\n",
    "num2 = re.search(r,web_data_2)\n",
    "print(num1.group(),num2.group())\n",
    "\n",
    "def write_file(data1,data2):\n",
    "    data = open(\"text3.txt\", \"w+\", encoding=\"utf8\")\n",
    "    data.write(data1)\n",
    "    data.seek(0,2)\n",
    "    data.write(\"\\n\")\n",
    "    data.seek(0,2)\n",
    "    data.write(\"\\n\")\n",
    "    data.seek(0,2)\n",
    "    data.write(data2)\n",
    "    data.close()\n",
    "\n",
    "def read_data():\n",
    "    data = open(\"text3.txt\", \"r\", encoding=\"utf8\")\n",
    "    read_data = data.read()\n",
    "    print(read_data)\n",
    "    data.close()\n",
    "\n",
    "if int(num1.group()) < int(num2.group()):\n",
    "    write_file(web_data_1,web_data_2)\n",
    "else:\n",
    "    write_file(web_data_2,web_data_1)\n",
    "\n",
    "read_data()\n"
   ]
  },
  {
   "cell_type": "code",
   "execution_count": null,
   "metadata": {},
   "outputs": [],
   "source": []
  }
 ],
 "metadata": {
  "kernelspec": {
   "display_name": "Python 3",
   "language": "python",
   "name": "python3"
  },
  "language_info": {
   "codemirror_mode": {
    "name": "ipython",
    "version": 3
   },
   "file_extension": ".py",
   "mimetype": "text/x-python",
   "name": "python",
   "nbconvert_exporter": "python",
   "pygments_lexer": "ipython3",
   "version": "3.6.7"
  }
 },
 "nbformat": 4,
 "nbformat_minor": 2
}
