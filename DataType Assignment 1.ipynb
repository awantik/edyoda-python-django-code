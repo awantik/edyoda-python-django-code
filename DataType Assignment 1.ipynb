{
 "cells": [
  {
   "cell_type": "markdown",
   "metadata": {},
   "source": [
    "1.In the pre-smartphone era,each number key is assigned a subset of the alphabet {a,b,…,z}.\n",
    "\n",
    "- 2 is assigned {a,b,c}, \n",
    "- 3 is assigned {d,e,f} \n",
    "- 4 is assigned {g,h,i} \n",
    "- 5 is assigned {j,k,l}\n",
    "- 6 is assigned {m,n,o} \n",
    "- 7 is assigned {p,q,r,s}\n",
    "- 8 is assigned {t,u,v} \n",
    "- 9 is assigned {w,x,y,z}\n",
    "\n",
    "Write a function numbers_to_chars() to find the characters generated using key 9999335533. Output should be \"zeke\"\n",
    "\n",
    "Function Name : numbers_to_chars() Input : Integer number sequence Output : Str"
   ]
  },
  {
   "cell_type": "code",
   "execution_count": 16,
   "metadata": {},
   "outputs": [],
   "source": [
    "data_dict = {2:[\"a\",\"b\",\"c\"],3:[\"d\",\"e\",\"f\"],4:[\"g\",\"h\",\"i\"],5:[\"j\",\"k\",\"l\"],6:['m','n','o'],7:['p','q','r','s'],\n",
    "             8:['t','u','v'],9:['w','x','y','z']}\n",
    "#numbers = int(input(\"enter the number sequence : \"))\n",
    "numbers = 9999335533\n",
    "number = str(numbers)"
   ]
  },
  {
   "cell_type": "code",
   "execution_count": 17,
   "metadata": {},
   "outputs": [],
   "source": [
    "def number_to_chars(numbers):\n",
    "    string = \"\"\n",
    "    count = 0\n",
    "    for i in range(len(numbers)):\n",
    "        #num = int(numbers[i])\n",
    "        if i == 0 or numbers[i] == numbers[i-1]:\n",
    "            count += 1\n",
    "            #print(\"equals\",i)\n",
    "            if i == (len(numbers)-1):\n",
    "               #print(\"reached\",i)\n",
    "                arr = data_dict[int(numbers[i-1])]\n",
    "                string += arr[count%len(arr)-1]\n",
    "        else:\n",
    "          # print(i)\n",
    "            arr = data_dict[int(numbers[i-1])]\n",
    "            string += arr[count%len(arr)-1]\n",
    "            count = 1\n",
    "    return string"
   ]
  },
  {
   "cell_type": "code",
   "execution_count": 18,
   "metadata": {},
   "outputs": [
    {
     "data": {
      "text/plain": [
       "'zeke'"
      ]
     },
     "execution_count": 18,
     "metadata": {},
     "output_type": "execute_result"
    }
   ],
   "source": [
    "number_to_chars(\"9999335533\")\n",
    "    "
   ]
  },
  {
   "cell_type": "code",
   "execution_count": null,
   "metadata": {},
   "outputs": [],
   "source": []
  },
  {
   "cell_type": "code",
   "execution_count": null,
   "metadata": {},
   "outputs": [],
   "source": []
  },
  {
   "cell_type": "markdown",
   "metadata": {},
   "source": [
    "2.Given a dict of tickets(\"to\":\"from\")\n",
    "\n",
    "{\"Chennai\":\"Banglore\",\"Bombay\":\"Delhi\",\"Goa\":\"Chennai\",\"Delhi\":\"Goa\"} find out the sequence of travel.\n",
    "\n",
    "Expected Output : Bombay->Delhi, Delhi->Goa, Goa->Chennai, Chennai->Banglore\n",
    "\n",
    "Function Name : travel_sequence Input : dict Output : dict"
   ]
  },
  {
   "cell_type": "code",
   "execution_count": 19,
   "metadata": {},
   "outputs": [],
   "source": [
    "travel_dict = {\"Chennai\":\"Banglore\",\"Bombay\":\"Delhi\",\"Goa\":\"Chennai\",\"Delhi\":\"Goa\"}\n",
    "length = len(travel_dict)\n"
   ]
  },
  {
   "cell_type": "code",
   "execution_count": null,
   "metadata": {},
   "outputs": [],
   "source": []
  },
  {
   "cell_type": "code",
   "execution_count": null,
   "metadata": {},
   "outputs": [],
   "source": [
    "#help(re)"
   ]
  },
  {
   "cell_type": "code",
   "execution_count": 20,
   "metadata": {},
   "outputs": [
    {
     "name": "stdout",
     "output_type": "stream",
     "text": [
      "{'Bombay': 'Delhi', 'Delhi': 'Goa', 'Goa': 'Chennai', 'Chennai': 'Banglore'}\n"
     ]
    }
   ],
   "source": [
    "def travel_sequence(travel_cities):\n",
    "    dict_new = {}\n",
    "    value = \"\"\n",
    "    for i in travel_cities.keys():\n",
    "        if i not in travel_cities.values():\n",
    "            dict_new[i] = travel_cities[i]\n",
    "            value = travel_cities[i]\n",
    "           # print(dict_new)\n",
    "    for i in range(len(travel_cities)):\n",
    "        if len(dict_new) == len(travel_cities):\n",
    "            break\n",
    "        data = travel_cities[value]\n",
    "        dict_new[value] = data\n",
    "        value = data\n",
    "    return dict_new\n",
    "\n",
    "path_dict = travel_sequence(travel_dict)\n",
    "print(path_dict)"
   ]
  },
  {
   "cell_type": "markdown",
   "metadata": {},
   "source": [
    "3.Given a dictionary that associates the names of states with a list of the names of cities that appear in it,write a program that creates a new dictionary that associates the name of a city with the list of states that it appears in.\n",
    "\n",
    "As an example, if the first dictionary is\n",
    "\n",
    "Input : states = {'New Hampshire': ['Concord', 'Hanover'],\n",
    "\n",
    "'Massachusetts': ['Boston', 'Concord', 'Springfield'],\n",
    "\n",
    "'Illinois': ['Chicago', 'Springfield', 'Peoria'] }\n",
    "\n",
    "Output:\n",
    "\n",
    "cities = {'Hanover': ['New Hampshire'],\n",
    "\n",
    "'Chicago': ['Illinois'],'Boston': ['Massachusetts'],\n",
    "\n",
    "'Peoria': ['Illinois'],'Concord': ['New Hampshire','Massachusetts'],\n",
    "\n",
    "'Springfield': ['Massachusetts', 'Illinois'] }\n",
    "\n",
    "Function Name : city_with_states Input : dict Output : dict"
   ]
  },
  {
   "cell_type": "code",
   "execution_count": 36,
   "metadata": {},
   "outputs": [
    {
     "name": "stdout",
     "output_type": "stream",
     "text": [
      "{'Concord': ['New Hampshire', 'Massachusetts'], 'Hanover': ['New Hampshire'], 'Boston': ['Massachusetts'], 'Springfield': ['Massachusetts', 'Illinois'], 'Chicago': ['Illinois'], 'Peoria': ['Illinois']}\n"
     ]
    }
   ],
   "source": [
    "states = {'New Hampshire': ['Concord', 'Hanover'],'Massachusetts': ['Boston', 'Concord', 'Springfield'],'Illinois': ['Chicago', 'Springfield', 'Peoria'] }\n",
    "\n",
    "def city_with_states(state_list):\n",
    "    cities = {}\n",
    "    for key in state_list.keys():\n",
    "        city_list = state_list[key]\n",
    "        \n",
    "        for city in city_list:\n",
    "            l = list()\n",
    "            l.append(key)\n",
    "            if city in cities.keys():\n",
    "                #print(\"present\",city)\n",
    "                lis = cities[city]\n",
    "                lis.append(key)\n",
    "                cities[city] = lis\n",
    "                #print(\"present adding\",city,lis)\n",
    "            else:\n",
    "                #print(\"not present\",city)\n",
    "                cities.setdefault(city,l) \n",
    "                #print(\"not present add\",city,l)\n",
    "    return cities\n",
    "city = city_with_states(states)\n",
    "print(city)"
   ]
  },
  {
   "cell_type": "markdown",
   "metadata": {},
   "source": [
    "4.How do you check if a given String contains valid parentheses? Given a string containing just the characters '(', ')', '{', '}', '[' and ']', write a program in python to check if the input string is valid. The brackets must close in the correct order, \"()\" and \"()[]{}\" are all valid but \"(]\" and \"([)]\" are not.\n",
    "\n",
    "Function Name : check_parentheses Input : str Output : True/False"
   ]
  },
  {
   "cell_type": "code",
   "execution_count": 59,
   "metadata": {},
   "outputs": [
    {
     "name": "stdout",
     "output_type": "stream",
     "text": [
      "{[]{()}} - True\n",
      "[{}{})(] - False\n"
     ]
    }
   ],
   "source": [
    "open_list = [\"[\",\"{\",\"(\"]\n",
    "close_list = [\"]\",\"}\",\")\"]\n",
    "\n",
    "def check_parentheses(myStr):\n",
    "    stack = []\n",
    "    for i in myStr:\n",
    "#         print(i)\n",
    "        if i in open_list:\n",
    "            #print(i)\n",
    "            stack.append(i)\n",
    "        elif i in close_list:\n",
    "            pos = close_list.index(i)\n",
    "#             print(pos)\n",
    "            if ((len(stack) > 0) and (open_list[pos] == stack[len(stack)-1])):\n",
    "                stack.pop()\n",
    "            else:\n",
    "                return False\n",
    "    if len(stack) == 0:\n",
    "        return True\n",
    " \n",
    "string = \"{[]{()}}\"\n",
    "print(string,\"-\", check_parentheses(string)) \n",
    "  \n",
    "string = \"[{}{})(]\"\n",
    "print(string,\"-\", check_parentheses(string)) "
   ]
  },
  {
   "cell_type": "markdown",
   "metadata": {},
   "source": [
    "5.Write a program to convert Integer to Roman String. For example, if a given integer is 5 then your program should print \"V\".\n",
    "\n",
    "Function Name : int_roman Input : int Output : str"
   ]
  },
  {
   "cell_type": "code",
   "execution_count": 60,
   "metadata": {},
   "outputs": [
    {
     "name": "stdout",
     "output_type": "stream",
     "text": [
      "C\n",
      "MMMMMMMM\n"
     ]
    }
   ],
   "source": [
    "def int_roman( num):\n",
    "    val = [1000, 900, 500, 400,100, 90, 50, 40,10, 9, 5, 4,1]\n",
    "    syb = [\"M\", \"CM\", \"D\", \"CD\",\"C\", \"XC\", \"L\", \"XL\",\"X\", \"IX\", \"V\", \"IV\",\"I\"]\n",
    "    roman_num = ''\n",
    "    i = 0\n",
    "    while  num > 0:\n",
    "        for _ in range(num // val[i]):\n",
    "            roman_num += syb[i]\n",
    "            num -= val[i]\n",
    "        i += 1\n",
    "    return roman_num\n",
    "\n",
    "\n",
    "print(int_roman(100))\n",
    "print(int_roman(8000))"
   ]
  },
  {
   "cell_type": "markdown",
   "metadata": {},
   "source": [
    "6.Write a program utility that counts the number of lines of actual python code in a. For the purpose of this exercise, a line is counted if it contains something other than whitespace or text in a comment.\n",
    "\n",
    "remember that comment start sequences that appear inside python strings should be ignored.\n",
    "\n",
    "Function Name : count_code_lines Input : str Output : int"
   ]
  },
  {
   "cell_type": "code",
   "execution_count": null,
   "metadata": {},
   "outputs": [],
   "source": [
    "\"\"\"#Linear search implementation\n",
    "#Takes list and a key as input and returns True or False as answer\n",
    "def linear_saerch(l,key):\n",
    "    for value in l:\n",
    "        if key == value:\n",
    "            return True #Return True is key exist\n",
    "    else:\n",
    "        return False #Return False if key does not exist\n",
    "\n",
    "\n",
    "\n",
    "\n",
    "l = [100,200,300,400,500,600]\n",
    "key = 500\n",
    "result = linear_search(l,key)\n",
    "print(result)\"\"\""
   ]
  },
  {
   "cell_type": "code",
   "execution_count": 61,
   "metadata": {},
   "outputs": [
    {
     "data": {
      "text/plain": [
       "10"
      ]
     },
     "execution_count": 61,
     "metadata": {},
     "output_type": "execute_result"
    }
   ],
   "source": [
    "import re\n",
    "\n",
    "d = re.compile(\"^[^#].+\")\n",
    "def count_code_lines():\n",
    "    python_code = open(\"sample.txt\",\"r\")\n",
    "    count = 0\n",
    "    for x in python_code:\n",
    "        item = 0\n",
    "        item = re.search(d,x)\n",
    "        \n",
    "        if item:\n",
    "            count +=1\n",
    "    return count\n",
    "count_code_lines()"
   ]
  },
  {
   "cell_type": "markdown",
   "metadata": {},
   "source": [
    "7.Write a program to check the strength of a supplied password\n",
    "\n",
    "The length of the password must be at least 8 characters in length The password must contain at least 1 capital letter The password must contain at least 1 digit The password must contain at least 1 special character and allowed special characters are (!,@,#,$,&)\n",
    "\n",
    "We need to provide feedback to the user about the strength of their password\n",
    "\n",
    "Provide the user with a list of reasons why their password is 'weak'\n",
    "Function Name : check_password_strength Input : str Output : tuple (str,list) eg (\"Weak\",[\"The password must contain at least 1 capital letter\"])"
   ]
  },
  {
   "cell_type": "code",
   "execution_count": 62,
   "metadata": {},
   "outputs": [],
   "source": [
    "import re\n"
   ]
  },
  {
   "cell_type": "code",
   "execution_count": 63,
   "metadata": {},
   "outputs": [
    {
     "data": {
      "text/plain": [
       "('weak',\n",
       " ['The password must contain at least 8 charecter',\n",
       "  'The password must contain at least 1 digit',\n",
       "  'The password must contain at least 1 Upper case',\n",
       "  'The password must contain at least 1 Special charecter'])"
      ]
     },
     "execution_count": 63,
     "metadata": {},
     "output_type": "execute_result"
    }
   ],
   "source": [
    "RegexLength = re.compile(\"^\\S{8,}$\")\n",
    "RegexDigit = re.compile(\"\\d\")\n",
    "RegexLower = re.compile(\"[a-z]\")\n",
    "RegexUpper = re.compile(\"[A-Z]\")\n",
    "RegexSpecial = re.compile(\"[!@#$&]\")\n",
    "\n",
    "\n",
    "def check_password_strength(password):\n",
    "    response = []\n",
    "    if RegexLength.search(password) == None:\n",
    "        response.append(\"The password must contain at least 8 charecter\")\n",
    "    if RegexDigit.search(password) == None:\n",
    "        response.append(\"The password must contain at least 1 digit\")\n",
    "    if RegexUpper.search(password) == None:\n",
    "        response.append(\"The password must contain at least 1 Upper case\")\n",
    "    if RegexLower.search(password) == None:\n",
    "        response.append(\"The password must contain at least 1 lowercase\")\n",
    "    if RegexSpecial.search(password) == None:\n",
    "        response.append(\"The password must contain at least 1 Special charecter\")\n",
    "    if len(response) == 0:\n",
    "        return \"Strong\",\"Good password\"\n",
    "        print(\"here\")\n",
    "    else:\n",
    "        return \"weak\",response\n",
    "        print(\"here2\",response)\n",
    "\n",
    "password= \"afhsjha\"\n",
    "check_password_strength(password)"
   ]
  },
  {
   "cell_type": "markdown",
   "metadata": {},
   "source": [
    "8) Check if given sentence is syntactically correct or not\n",
    "A simple sentence if syntactically correct if it fulfills given rules. The following are given rules.\n",
    "\n",
    "Sentence must start with a Uppercase character (e.g. Noun/ I/ We/ He etc.)\n",
    "There must be spaces between words.\n",
    "Then the sentence must end with a full stop(.).\n",
    "Two continuous spaces are not allowed.\n",
    "Two continuous uppercase characters are not allowed.\n",
    "However the sentence can end after an uppercase character.\n",
    "Function Name : check_sentence Input : str Output : tuple (True/False,list) eg (False,[\"There must be spaces between words.\"])"
   ]
  },
  {
   "cell_type": "code",
   "execution_count": 64,
   "metadata": {},
   "outputs": [
    {
     "name": "stdout",
     "output_type": "stream",
     "text": [
      "(False, ['Sentense should start with upper case', 'Two continuous uppercase characters are not allowed', 'Two continuous spaces are not allowed'])\n",
      "(True, [])\n",
      "(False, ['Sentense should end with full stop(.)'])\n"
     ]
    }
   ],
   "source": [
    "import re\n",
    "start = re.compile(\"^[A-Z]\")\n",
    "end = re.compile(\"\\.$\")\n",
    "middle = re.compile(\"^\\w.\\w$\")\n",
    "continious_upper = re.compile(\"[A-Z]{2,}\")\n",
    "continious_spaces = re.compile(\"[ ]{2,}\")\n",
    "sentence1 = \"hello  WOrld.\"\n",
    "sentence2 = \"My name is Ram.\"\n",
    "sentence3 = \"Hello world\"\n",
    "def check_sentence(sentence):\n",
    "    result = []\n",
    "    if start.search(sentence) == None:\n",
    "        result.append(\"Sentense should start with upper case\")\n",
    "    if end.search(sentence) == None:\n",
    "        result.append(\"Sentense should end with full stop(.)\")\n",
    "    if continious_upper.search(sentence) != None:\n",
    "        result.append(\"Two continuous uppercase characters are not allowed\")\n",
    "    if continious_spaces.search(sentence) != None:\n",
    "        result.append(\"Two continuous spaces are not allowed\")\n",
    "    if result:\n",
    "        return False,result\n",
    "    else:\n",
    "        return True,result\n",
    "    \n",
    "print(check_sentence(sentence1))\n",
    "print(check_sentence(sentence2))\n",
    "print(check_sentence(sentence3))"
   ]
  },
  {
   "cell_type": "code",
   "execution_count": 65,
   "metadata": {},
   "outputs": [
    {
     "data": {
      "text/plain": [
       "(False,\n",
       " ['Sentense should start with upper case',\n",
       "  'Two continuous uppercase characters are not allowed',\n",
       "  'Two continuous spaces are not allowed'])"
      ]
     },
     "execution_count": 65,
     "metadata": {},
     "output_type": "execute_result"
    }
   ],
   "source": [
    "check_sentence(sentence1)"
   ]
  },
  {
   "cell_type": "markdown",
   "metadata": {},
   "source": [
    "9.Given an array arr[] of integers and an integer K, the task is to find the greatest contiguous sub-array of size K.\n",
    "\n",
    "Sub-array X is said to be greater than sub-array Y if the first non-matching element in both the sub-arrays has a greater value in X than in Y.\n",
    "\n",
    "For example : Input: arr[] = {1, 4, 3, 2, 5}, K = 4 Output: 4 3 2 5 Two subarrays are {1, 4, 3, 2} and {4, 3, 2, 5}. First non-matching element from array1 and array 2 : 1 and 4 as 4 is greater Hence, the greater one is {4, 3, 2, 5}\n",
    "\n",
    "Function Name : greatest_sub_array() Input : list Output : list"
   ]
  },
  {
   "cell_type": "code",
   "execution_count": 66,
   "metadata": {},
   "outputs": [
    {
     "name": "stdout",
     "output_type": "stream",
     "text": [
      "[4, 3, 2, 5]\n"
     ]
    }
   ],
   "source": [
    "def greatest_sub_array(a, k): \n",
    "    sub_arrays=[]\n",
    "    n = len(a)\n",
    "    for i in range(n-k+1): \n",
    "        temp=[] \n",
    "        for j in range(i,i+k): \n",
    "            temp.append(a[j])\n",
    "        #print(temp)\n",
    "        sub_arrays.append(temp)  \n",
    "    #length = len(sub_arrays)\n",
    "    #print(max(sub_arrays))    \n",
    "    #sub_arrays = sorted(sub_arrays,reverse = True) \n",
    "    return max(sub_arrays) \n",
    "\n",
    "a =[ 1, 4, 3, 2, 5 ] \n",
    "k = 4 \n",
    " \n",
    "result = greatest_sub_array(a, k) \n",
    "print(result) "
   ]
  },
  {
   "cell_type": "markdown",
   "metadata": {},
   "source": [
    "10.Given a list of N integers. The task is to eliminate the minimum number of elements such that in the resulting list the sum of any two adjacent values is even.\n",
    "\n",
    "Numbers = [1, 3, 5, 4, 2] Output = [1, 3, 5] Total elements removed 2 Elements to be removed [4,2]\n",
    "\n",
    "Function Name : adj_sum_even() Input : list Output : tuple(int,list)"
   ]
  },
  {
   "cell_type": "code",
   "execution_count": 67,
   "metadata": {},
   "outputs": [
    {
     "name": "stdout",
     "output_type": "stream",
     "text": [
      "(2, [1, 3, 5])\n"
     ]
    }
   ],
   "source": [
    "def adj_sum_even(n, arr): \n",
    "    countOdd = 0\n",
    "    temp = []\n",
    "    for i in range(n):  \n",
    "        if (arr[i] % 2):\n",
    "            temp.append(arr[i])\n",
    "            countOdd += 1 \n",
    "    if countOdd > n - countOdd:\n",
    "        return n-countOdd,temp\n",
    "    else:\n",
    "        return countOdd,[i for i in arr if i not in temp]\n",
    "#     return min(countOdd, n - countOdd),temp \n",
    " \n",
    "arr = [1, 3, 5, 4, 2]  \n",
    "n = len(arr) \n",
    "\n",
    "print(adj_sum_even(n, arr)) "
   ]
  },
  {
   "cell_type": "code",
   "execution_count": null,
   "metadata": {},
   "outputs": [],
   "source": []
  }
 ],
 "metadata": {
  "kernelspec": {
   "display_name": "Python 3",
   "language": "python",
   "name": "python3"
  },
  "language_info": {
   "codemirror_mode": {
    "name": "ipython",
    "version": 3
   },
   "file_extension": ".py",
   "mimetype": "text/x-python",
   "name": "python",
   "nbconvert_exporter": "python",
   "pygments_lexer": "ipython3",
   "version": "3.6.7"
  }
 },
 "nbformat": 4,
 "nbformat_minor": 2
}
